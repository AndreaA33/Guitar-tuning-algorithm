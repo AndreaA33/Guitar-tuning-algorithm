{
 "cells": [
  {
   "cell_type": "code",
   "execution_count": null,
   "id": "97437434-bc1b-48b1-a21e-a857013ec568",
   "metadata": {},
   "outputs": [],
   "source": [
    "import sounddevice  as sd\n",
    "import numpy as np\n",
    "from scipy.io import wavfile\n",
    "from scipy.io.wavfile import write\n",
    "import matplotlib.pyplot as plt\n",
    "import pandas as pd\n",
    "\n",
    "def record():\n",
    "    fs = 44100\n",
    "    duration = 5\n",
    "    myrecording = sd.rec(duration *fs, samplerate = fs, channels = 2, dtype = \"float32\")\n",
    "    print(\"recording\")\n",
    "    sd.wait()\n",
    "    print(\"complete\")\n",
    "    sd.play(myrecording, fs)\n",
    "    sd.wait()\n",
    "    print(\"finished recording\")\n",
    "\n",
    "    # Frequency / pitch of the sine wave\n",
    "    freq_hz = 440.0\n",
    "\n",
    "    waveform = np.sin(2 * np.pi * myrecording * freq_hz / fs)\n",
    "    waveform_quiet = waveform * 5\n",
    "    waveform_integers = np.int16(waveform_quiet * 32767)\n",
    "\n",
    "\n",
    "    # Write the .wav file\n",
    "    write('first_sine_wave4.wav', fs, waveform_integers)\n",
    "\n",
    "# record()\n",
    "\n",
    "def comparison(recording1,recording2):\n",
    "    dframe = pd.DataFrame(recording1)\n",
    "    return dframe\n",
    "\n",
    "samplerate1, data1 = wavfile.read(\"first_sine_wave.wav\")\n",
    "samplerate2, data2 = wavfile.read(\"first_sine_wave2.wav\")\n",
    "comparison(data1.shape[0],data2.shape[0])\n",
    "\n",
    "print(f\"number of channels = {data1.shape[0]}\")"
   ]
  }
 ],
 "metadata": {
  "kernelspec": {
   "display_name": "Python 3 (ipykernel)",
   "language": "python",
   "name": "python3"
  },
  "language_info": {
   "codemirror_mode": {
    "name": "ipython",
    "version": 3
   },
   "file_extension": ".py",
   "mimetype": "text/x-python",
   "name": "python",
   "nbconvert_exporter": "python",
   "pygments_lexer": "ipython3",
   "version": "3.12.4"
  }
 },
 "nbformat": 4,
 "nbformat_minor": 5
}
